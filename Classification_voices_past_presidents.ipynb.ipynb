{
 "cells": [
  {
   "cell_type": "code",
   "execution_count": 4,
   "metadata": {
    "colab": {
     "base_uri": "https://localhost:8080/",
     "height": 88
    },
    "colab_type": "code",
    "executionInfo": {
     "elapsed": 7681,
     "status": "ok",
     "timestamp": 1594803792208,
     "user": {
      "displayName": "한우",
      "photoUrl": "https://lh3.googleusercontent.com/a-/AOh14Gimf-DWmV0SRGPvFIqwBPav_FepPcd_a3224htKug=s64",
      "userId": "16749474188934901800"
     },
     "user_tz": -540
    },
    "id": "YU1K2DSfUl2_",
    "outputId": "1ed75191-441e-4092-a41d-6126a6c59a0c"
   },
   "outputs": [],
   "source": [
    "#!pip install pydub\n",
    "#!pip install librosa\n",
    "from pydub import AudioSegment\n",
    "import matplotlib.font_manager as fm\n",
    "import matplotlib.pyplot as plt\n",
    "import matplotlib as mpl\n",
    "import librosa\n",
    "import librosa.display\n",
    "import IPython.display\n",
    "import numpy as np\n",
    "import requests\n",
    "import os"
   ]
  },
  {
   "cell_type": "code",
   "execution_count": 5,
   "metadata": {
    "colab": {},
    "colab_type": "code",
    "executionInfo": {
     "elapsed": 1030,
     "status": "ok",
     "timestamp": 1594794527940,
     "user": {
      "displayName": "한우",
      "photoUrl": "https://lh3.googleusercontent.com/a-/AOh14Gimf-DWmV0SRGPvFIqwBPav_FepPcd_a3224htKug=s64",
      "userId": "16749474188934901800"
     },
     "user_tz": -540
    },
    "id": "o2PoW9zLU3vY"
   },
   "outputs": [],
   "source": [
    "# csv에 있는 정보들을 불러와서 csv_data에 저장함\n",
    "with open('President_speech_record_voice.csv', 'r', encoding='CP949') as file:\n",
    "    csv_data = []\n",
    "    for line in file.readlines():\n",
    "        csv_data.append(line.split(','))"
   ]
  },
  {
   "cell_type": "code",
   "execution_count": 6,
   "metadata": {
    "colab": {},
    "colab_type": "code",
    "executionInfo": {
     "elapsed": 964,
     "status": "ok",
     "timestamp": 1594794532209,
     "user": {
      "displayName": "한우",
      "photoUrl": "https://lh3.googleusercontent.com/a-/AOh14Gimf-DWmV0SRGPvFIqwBPav_FepPcd_a3224htKug=s64",
      "userId": "16749474188934901800"
     },
     "user_tz": -540
    },
    "id": "Ef09TE-Ol-vn"
   },
   "outputs": [],
   "source": [
    "# 각 데이터를 리스트에 저장\n",
    "president_name = []\n",
    "speech_data = []\n",
    "voice_record_link=[]\n",
    "for i in range(1, len(csv_data)):\n",
    "    president_name.append(csv_data[i][2])\n",
    "    speech_data.append(csv_data[i][3])\n",
    "    csv_data[i][4] = csv_data[i][4].replace('\\n', '')\n",
    "    voice_record_link.append(csv_data[i][4])"
   ]
  },
  {
   "cell_type": "code",
   "execution_count": 7,
   "metadata": {
    "colab": {
     "base_uri": "https://localhost:8080/",
     "height": 1000
    },
    "colab_type": "code",
    "executionInfo": {
     "elapsed": 6895188,
     "status": "ok",
     "timestamp": 1594802340351,
     "user": {
      "displayName": "한우",
      "photoUrl": "https://lh3.googleusercontent.com/a-/AOh14Gimf-DWmV0SRGPvFIqwBPav_FepPcd_a3224htKug=s64",
      "userId": "16749474188934901800"
     },
     "user_tz": -540
    },
    "id": "onAyq10gKVld",
    "outputId": "73701507-97b5-4394-c8cd-60ddb2790c91"
   },
   "outputs": [
    {
     "name": "stdout",
     "output_type": "stream",
     "text": [
      "http://dams.pa.go.kr:8888/dams/NATURAL/2017/11/09/DOC/SRC/0304201711091118515696754015640.mp3\n",
      "http://dams.pa.go.kr:8888/dams/NATURAL/2017/11/09/DOC/SRC/0304201711091118518933035016383.mp3\n",
      "http://dams.pa.go.kr:8888/dams/NATURAL/2017/11/09/DOC/SRC/0304201711091118520189583010314.mp3\n",
      "http://dams.pa.go.kr:8888/dams/NATURAL/2017/11/09/DOC/SRC/0304201711091118524149249015137.mp3\n",
      "http://dams.pa.go.kr:8888/dams/NATURAL/2017/11/09/DOC/SRC/0304201711091118528585183013488.mp3\n",
      "http://dams.pa.go.kr:8888/dams/NATURAL/2017/11/09/DOC/SRC/0304201711091118552237588010755.mp3\n",
      "http://dams.pa.go.kr:8888/dams/NATURAL/2017/11/09/DOC/SRC/0304201711091118562717283018320.mp3\n",
      "http://dams.pa.go.kr:8888/dams/NATURAL/2017/11/09/DOC/SRC/0304201711091118560169926016304.mp3\n",
      "http://dams.pa.go.kr:8888/dams/NATURAL/2017/11/09/DOC/SRC/0304201711091118565317159016077.mp3\n",
      "http://dams.pa.go.kr:8888/dams/NATURAL/2017/11/09/DOC/SRC/0304201711091118567668645015725.mp3\n",
      "http://dams.pa.go.kr:8888/dams/NATURAL/2017/11/09/DOC/SRC/0304201711091118572576295016285.mp3\n",
      "http://dams.pa.go.kr:8888/dams/NATURAL/2017/11/09/DOC/SRC/0304201711091118580477592012939.mp3\n",
      "http://dams.pa.go.kr:8888/dams/NATURAL/2017/11/09/DOC/SRC/0304201711091118576682196015891.mp3\n",
      "http://dams.pa.go.kr:8888/dams/NATURAL/2017/11/09/DOC/SRC/0304201711091118585608670017398.mp3\n",
      "http://dams.pa.go.kr:8888/dams/NATURAL/2017/11/09/DOC/SRC/0304201711091118532352813011504.mp3\n",
      "http://dams.pa.go.kr:8888/dams/NATURAL/2017/11/09/DOC/SRC/0304201711091118540881457018507.mp3\n",
      "http://dams.pa.go.kr:8888/dams/NATURAL/2017/11/09/DOC/SRC/0304201711091118591388903012386.mp3\n",
      "http://dams.pa.go.kr:8888/dams/NATURAL/2017/11/09/DOC/SRC/0304201711091118596131634013052.mp3\n",
      "http://dams.pa.go.kr:8888/dams/NATURAL/2017/11/09/DOC/SRC/0304201711091119000865622013803.mp3\n",
      "http://dams.pa.go.kr:8888/dams/NATURAL/2017/11/09/DOC/SRC/0304201711091119004320501019354.mp3\n",
      "http://dams.pa.go.kr:8888/dams/NATURAL/2017/11/09/DOC/SRC/0304201711091119009919613014957.mp3\n",
      "http://dams.pa.go.kr:8888/dams/NATURAL/2017/11/09/DOC/SRC/0304201711091119020126352018858.mp3\n",
      "http://dams.pa.go.kr:8888/dams/NATURAL/2017/11/09/DOC/SRC/0304201711091119027043131017671.mp3\n",
      "http://dams.pa.go.kr:8888/dams/NATURAL/2017/11/09/DOC/SRC/0304201711091119036835476015350.mp3\n",
      "http://dams.pa.go.kr:8888/dams/NATURAL/2017/11/09/DOC/SRC/0304201711091119048002882015135.mp3\n",
      "http://dams.pa.go.kr:8888/dams/NATURAL/2017/11/09/DOC/SRC/0304201711091119059301224010980.mp3\n",
      "http://dams.pa.go.kr:8888/dams/NATURAL/2017/11/09/DOC/SRC/0304201711091119072648503016641.mp3\n",
      "http://dams.pa.go.kr:8888/dams/NATURAL/2017/11/09/DOC/SRC/0304201711091119082584750018252.mp3\n",
      "http://dams.pa.go.kr:8888/dams/NATURAL/2017/11/09/DOC/SRC/0304201711091119090634552019783.mp3\n",
      "http://dams.pa.go.kr:8888/dams/NATURAL/2017/11/09/DOC/SRC/0304201711091119093915502019452.mp3\n",
      "http://dams.pa.go.kr:8888/dams/NATURAL/2017/11/09/DOC/SRC/0304201711091119097318291018250.mp3\n",
      "http://dams.pa.go.kr:8888/dams/NATURAL/2017/11/09/DOC/SRC/0304201711091119100836872014681.mp3\n",
      "http://dams.pa.go.kr:8888/dams/NATURAL/2017/11/09/DOC/SRC/0304201711091119105640164010401.mp3\n",
      "http://dams.pa.go.kr:8888/dams/NATURAL/2017/11/09/DOC/SRC/0304201711091119112566844018728.mp3\n",
      "http://dams.pa.go.kr:8888/dams/NATURAL/2017/11/09/DOC/SRC/0304201711091119117895479011719.mp3\n",
      "http://dams.pa.go.kr:8888/dams/NATURAL/2017/11/09/DOC/SRC/0304201711091118518933035016383.mp3\n",
      "http://dams.pa.go.kr:8888/dams/NATURAL/2017/11/09/DOC/SRC/0304201711091119123141951016296.mp3\n",
      "http://dams.pa.go.kr:8888/dams/NATURAL/2017/11/09/DOC/SRC/0304201711091119127912353012804.mp3\n",
      "http://dams.pa.go.kr:8888/dams/NATURAL/2017/11/09/DOC/SRC/0304201711091119132711632014504.mp3\n",
      "http://dams.pa.go.kr:8888/dams/NATURAL/2017/11/09/DOC/SRC/0304201711091119136937208019529.mp3\n",
      "http://dams.pa.go.kr:8888/dams/NATURAL/2017/11/09/DOC/SRC/0304201711091119140581150014445.mp3\n",
      "http://dams.pa.go.kr:8888/dams/NATURAL/2017/11/09/DOC/SRC/0304201711091119144259551016076.mp3\n",
      "http://dams.pa.go.kr:8888/dams/NATURAL/2017/11/09/DOC/SRC/0304201711091119148903013011981.mp3\n",
      "http://dams.pa.go.kr:8888/dams/NATURAL/2017/11/09/DOC/SRC/0304201711091119153672089014851.mp3\n",
      "http://dams.pa.go.kr:8888/dams/NATURAL/2017/11/09/DOC/SRC/0304201711091119158123738010267.mp3\n",
      "http://dams.pa.go.kr:8888/dams/NATURAL/2017/11/09/DOC/SRC/0304201711091119181196481018479.mp3\n",
      "http://dams.pa.go.kr:8888/dams/NATURAL/2017/11/09/DOC/SRC/0304201711091119173821282011153.mp3\n",
      "http://dams.pa.go.kr:8888/dams/NATURAL/2017/11/09/DOC/SRC/0304201711091119177152783014532.mp3\n",
      "http://dams.pa.go.kr:8888/dams/NATURAL/2017/11/09/DOC/SRC/0304201711091119184562585011244.mp3\n",
      "http://dams.pa.go.kr:8888/dams/NATURAL/2017/11/09/DOC/SRC/0304201711091119193742974016504.mp3\n",
      "http://dams.pa.go.kr:8888/dams/NATURAL/2017/11/09/DOC/SRC/0304201711091119188334196019459.mp3\n",
      "http://dams.pa.go.kr:8888/dams/NATURAL/2017/11/09/DOC/SRC/0304201711091119166852057015758.mp3\n",
      "http://dams.pa.go.kr:8888/dams/NATURAL/2017/11/09/DOC/SRC/0304201711091119172210667015535.mp3\n",
      "http://dams.pa.go.kr:8888/dams/NATURAL/2017/11/09/DOC/SRC/0304201711091119170446080018927.mp3\n",
      "http://dams.pa.go.kr:8888/dams/NATURAL/2017/11/09/DOC/SRC/0304201711091119197083782016773.mp3\n",
      "http://dams.pa.go.kr:8888/dams/NATURAL/2017/11/09/DOC/SRC/0304201711091119202209684013561.mp3\n",
      "http://dams.pa.go.kr:8888/dams/NATURAL/2017/11/09/DOC/SRC/0304201711091119205767284015286.mp3\n",
      "http://dams.pa.go.kr:8888/dams/NATURAL/2017/11/09/DOC/SRC/0304201711091119208711792010953.mp3\n",
      "http://dams.pa.go.kr:8888/dams/NATURAL/2017/11/09/DOC/SRC/0304201711091119230134257011015.mp3\n",
      "http://dams.pa.go.kr:8888/dams/NATURAL/2017/11/09/DOC/SRC/0304201711091119242454908010350.mp3\n",
      "http://dams.pa.go.kr:8888/dams/NATURAL/2017/11/09/DOC/SRC/0304201711091119212558270010016.mp3\n",
      "http://dams.pa.go.kr:8888/dams/NATURAL/2017/11/09/DOC/SRC/0304201711091119247529748015010.mp3\n",
      "http://dams.pa.go.kr:8888/dams/NATURAL/2017/11/09/DOC/SRC/0304201711091119250039461015679.mp3\n",
      "http://dams.pa.go.kr:8888/dams/NATURAL/2017/11/09/DOC/SRC/0304201711091119255264412011924.mp3\n",
      "http://dams.pa.go.kr:8888/dams/NATURAL/2017/11/09/DOC/SRC/0304201711091119259281082016829.mp3\n",
      "http://dams.pa.go.kr:8888/dams/NATURAL/2017/11/09/DOC/SRC/0304201711091119261601219014370.mp3\n",
      "http://dams.pa.go.kr:8888/dams/NATURAL/2017/11/09/DOC/SRC/0304201711091119267661537013889.mp3\n",
      "http://dams.pa.go.kr:8888/dams/NATURAL/2017/11/09/DOC/SRC/0304201711091119272382945019825.mp3\n",
      "http://dams.pa.go.kr:8888/dams/NATURAL/2017/11/09/DOC/SRC/0304201711091119285774928012706.mp3\n",
      "http://dams.pa.go.kr:8888/dams/NATURAL/2017/11/09/DOC/SRC/0304201711091119294514408010319.mp3\n",
      "http://dams.pa.go.kr:8888/dams/NATURAL/2017/11/09/DOC/SRC/0304201711091119297166690015414.mp3\n",
      "http://dams.pa.go.kr:8888/dams/NATURAL/2017/11/09/DOC/SRC/0304201711091119310753345012476.mp3\n",
      "http://dams.pa.go.kr:8888/dams/NATURAL/2017/11/09/DOC/SRC/0304201711091119317061904016138.mp3\n",
      "http://dams.pa.go.kr:8888/dams/NATURAL/2017/11/09/DOC/SRC/0304201711091119303127451019363.mp3\n",
      "http://dams.pa.go.kr:8888/dams/NATURAL/2017/11/09/DOC/SRC/0304201711091119307746973010020.mp3\n",
      "http://dams.pa.go.kr:8888/dams/NATURAL/2017/11/09/DOC/SRC/0304201711091119329193697013074.mp3\n",
      "http://dams.pa.go.kr:8888/dams/NATURAL/2017/11/09/DOC/SRC/0304201711091119325069331014750.mp3\n",
      "http://dams.pa.go.kr:8888/dams/NATURAL/2017/11/09/DOC/SRC/0304201711091119331204639013778.mp3\n",
      "http://dams.pa.go.kr:8888/dams/NATURAL/2017/11/09/DOC/SRC/0304201711091119335734214017634.mp3\n",
      "http://dams.pa.go.kr:8888/dams/NATURAL/2017/11/09/DOC/SRC/0304201711091119348887038019751.mp3\n",
      "http://dams.pa.go.kr:8888/dams/NATURAL/2017/11/09/DOC/SRC/0304201711091119361478630018305.mp3\n",
      "http://dams.pa.go.kr:8888/dams/NATURAL/2017/11/09/DOC/SRC/0304201711091119366790768014915.mp3\n",
      "http://dams.pa.go.kr:8888/dams/NATURAL/2017/11/09/DOC/SRC/0304201711091119370130981016894.mp3\n",
      "http://dams.pa.go.kr:8888/dams/NATURAL/2017/11/09/DOC/SRC/0304201711091119372113595011567.mp3\n",
      "http://dams.pa.go.kr:8888/dams/NATURAL/2017/11/09/DOC/SRC/0304201711091119374042067014409.mp3\n",
      "http://dams.pa.go.kr:8888/dams/NATURAL/2017/11/09/DOC/SRC/0304201711091119384438205013698.mp3\n",
      "http://dams.pa.go.kr:8888/dams/NATURAL/2017/11/09/DOC/SRC/0304201711091119406500986011026.mp3\n",
      "http://dams.pa.go.kr:8888/dams/NATURAL/2017/11/09/DOC/SRC/0304201711091119421948608016773.mp3\n"
     ]
    },
    {
     "name": "stdout",
     "output_type": "stream",
     "text": [
      "http://dams.pa.go.kr:8888/dams/NATURAL/2017/11/09/DOC/SRC/0304201711091119431161315017828.mp3\n",
      "http://dams.pa.go.kr:8888/dams/NATURAL/2017/11/09/DOC/SRC/0304201711091119438902507019495.mp3\n",
      "http://dams.pa.go.kr:8888/dams/NATURAL/2017/11/09/DOC/SRC/0304201711091119445423673012042.mp3\n",
      "http://dams.pa.go.kr:8888/dams/NATURAL/2017/11/09/DOC/SRC/0304201711091119459062059017884.mp3\n",
      "http://dams.pa.go.kr:8888/dams/NATURAL/2017/11/09/DOC/SRC/0304201711091119451244793011885.mp3\n",
      "http://dams.pa.go.kr:8888/dams/NATURAL/2017/11/09/DOC/SRC/0304201711091119464004570011159.mp3\n",
      "http://dams.pa.go.kr:8888/dams/NATURAL/2017/11/09/DOC/SRC/0304201711091119467432378011681.mp3\n",
      "http://dams.pa.go.kr:8888/dams/NATURAL/2017/11/09/DOC/SRC/0304201711091119470388581018517.mp3\n",
      "http://dams.pa.go.kr:8888/dams/NATURAL/2017/11/09/DOC/SRC/0304201711091119475445952012136.mp3\n",
      "http://dams.pa.go.kr:8888/dams/NATURAL/2017/11/09/DOC/SRC/0304201711091119484489485010313.mp3\n",
      "http://dams.pa.go.kr:8888/dams/NATURAL/2017/11/09/DOC/SRC/0304201711091119492039017019253.mp3\n",
      "http://dams.pa.go.kr:8888/dams/NATURAL/2017/11/09/DOC/SRC/0304201711091119508293631010971.mp3\n",
      "http://dams.pa.go.kr:8888/dams/NATURAL/2017/11/09/DOC/SRC/0304201711091119500443028012637.mp3\n",
      "http://dams.pa.go.kr:8888/dams/NATURAL/2017/11/09/DOC/SRC/0304201711091119512711725015420.mp3\n",
      "http://dams.pa.go.kr:8888/dams/NATURAL/2017/11/09/DOC/SRC/0304201711091119516948756010865.mp3\n",
      "http://dams.pa.go.kr:8888/dams/AUDIOVISUAL/2009/10/03/SOUND/SRC/0403200909221628300016283013085.mp3\n",
      "http://dams.pa.go.kr:8888/dams/NATURAL/2017/11/09/DOC/SRC/0304201711091119521118984015805.mp3\n",
      "http://dams.pa.go.kr:8888/dams/NATURAL/2017/11/09/DOC/SRC/0304201711091119528270886018732.mp3\n",
      "http://dams.pa.go.kr:8888/dams/NATURAL/2017/11/09/DOC/SRC/0304201711091119525252959012497.mp3\n",
      "http://dams.pa.go.kr:8888/dams/NATURAL/2017/11/09/DOC/SRC/0304201711091119531459173014943.mp3\n",
      "http://dams.pa.go.kr:8888/dams/NATURAL/2017/11/09/DOC/SRC/0304201711091119536470831010714.mp3\n",
      "http://dams.pa.go.kr:8888/dams/NATURAL/2017/11/09/DOC/SRC/0304201711091119539908186018286.mp3\n",
      "http://dams.pa.go.kr:8888/dams/NATURAL/2017/11/09/DOC/SRC/0304201711091119543927236011899.mp3\n",
      "http://dams.pa.go.kr:8888/dams/NATURAL/2017/11/09/DOC/SRC/0304201711091119545892695012514.mp3\n",
      "http://dams.pa.go.kr:8888/dams/NATURAL/2017/11/09/DOC/SRC/0304201711091119551389043017914.mp3\n",
      "http://dams.pa.go.kr:8888/dams/NATURAL/2017/11/09/DOC/SRC/0304201711091119555961889014381.mp3\n",
      "http://dams.pa.go.kr:8888/dams/NATURAL/2017/11/09/DOC/SRC/0304201711091119571324732017749.mp3\n",
      "http://dams.pa.go.kr:8888/dams/NATURAL/2017/11/09/DOC/SRC/0304201711091119562967858014421.mp3\n",
      "http://dams.pa.go.kr:8888/dams/NATURAL/2017/11/09/DOC/SRC/0304201711091119578658183019007.mp3\n",
      "http://dams.pa.go.kr:8888/dams/NATURAL/2017/11/09/DOC/SRC/0304201711091119587962471019829.mp3\n",
      "http://dams.pa.go.kr:8888/dams/NATURAL/2017/11/09/DOC/SRC/0304201711091119582586726011659.mp3\n",
      "http://dams.pa.go.kr:8888/dams/NATURAL/2017/11/09/DOC/SRC/0304201711091119592489141015130.mp3\n",
      "http://dams.pa.go.kr:8888/dams/NATURAL/2017/11/09/DOC/SRC/0304201711091119599850854010664.mp3\n",
      "http://dams.pa.go.kr:8888/dams/AUDIOVISUAL/2009/10/03/SOUND/SRC/0403200909221629000016290013119.mp3\n",
      "http://dams.pa.go.kr:8888/dams/NATURAL/2017/11/09/DOC/SRC/0304201711091120005934475019094.mp3\n",
      "http://dams.pa.go.kr:8888/dams/NATURAL/2017/11/09/DOC/SRC/0304201711091120015827202019962.mp3\n",
      "http://dams.pa.go.kr:8888/dams/NATURAL/2017/11/09/DOC/SRC/0304201711091120016912450015562.mp3\n",
      "http://dams.pa.go.kr:8888/dams/NATURAL/2017/11/09/DOC/SRC/0304201711091120012634199019787.mp3\n",
      "http://dams.pa.go.kr:8888/dams/NATURAL/2017/11/09/DOC/SRC/0304201711091120022551264010909.mp3\n",
      "http://dams.pa.go.kr:8888/dams/NATURAL/2017/11/09/DOC/SRC/0304201711091120029663595018504.mp3\n",
      "http://dams.pa.go.kr:8888/dams/NATURAL/2017/11/09/DOC/SRC/0304201711091120035913089013677.mp3\n",
      "http://dams.pa.go.kr:8888/dams/NATURAL/2017/11/09/DOC/SRC/0304201711091120041594349013142.mp3\n",
      "http://dams.pa.go.kr:8888/dams/NATURAL/2017/11/09/DOC/SRC/0304201711091120045493603015949.mp3\n",
      "http://dams.pa.go.kr:8888/dams/NATURAL/2017/11/09/DOC/SRC/0304201711091120053091622013929.mp3\n",
      "http://dams.pa.go.kr:8888/dams/NATURAL/2017/11/09/DOC/SRC/0304201711091120062248091019326.mp3\n",
      "http://dams.pa.go.kr:8888/dams/NATURAL/2017/11/09/DOC/SRC/0304201711091120071199919016587.mp3\n",
      "http://dams.pa.go.kr:8888/dams/NATURAL/2017/11/09/DOC/SRC/0304201711091120076393372016695.mp3\n",
      "http://dams.pa.go.kr:8888/dams/NATURAL/2017/11/09/DOC/SRC/0304201711091120083572318011956.mp3\n",
      "http://dams.pa.go.kr:8888/dams/NATURAL/2017/11/09/DOC/SRC/0304201711091120078087057011189.mp3\n",
      "http://dams.pa.go.kr:8888/dams/AUDIOVISUAL/2009/10/03/SOUND/SRC/0403200909221629600016296013147.mp3\n",
      "http://dams.pa.go.kr:8888/dams/NATURAL/2017/11/09/DOC/SRC/0304201711091120074794488016125.mp3\n",
      "http://dams.pa.go.kr:8888/dams/NATURAL/2017/11/09/DOC/SRC/0304201711091120089950352011615.mp3\n",
      "http://dams.pa.go.kr:8888/dams/NATURAL/2017/11/09/DOC/SRC/0304201711091120094498408011720.mp3\n",
      "http://dams.pa.go.kr:8888/dams/NATURAL/2017/11/09/DOC/SRC/0304201711091120097818158016665.mp3\n",
      "http://dams.pa.go.kr:8888/dams/NATURAL/2017/11/09/DOC/SRC/0304201711091120102559483011812.mp3\n",
      "http://dams.pa.go.kr:8888/dams/NATURAL/2017/11/09/DOC/SRC/0304201711091120105588799015740.mp3\n",
      "http://dams.pa.go.kr:8888/dams/NATURAL/2017/11/09/DOC/SRC/0304201711091120110116737012150.mp3\n",
      "http://dams.pa.go.kr:8888/dams/NATURAL/2017/11/09/DOC/SRC/0304201711091120119226166013780.mp3\n",
      "http://dams.pa.go.kr:8888/dams/NATURAL/2017/11/09/DOC/SRC/0304201711091120124215294011410.mp3\n",
      "http://dams.pa.go.kr:8888/dams/NATURAL/2017/11/09/DOC/SRC/0304201711091120115267470013881.mp3\n",
      "http://dams.pa.go.kr:8888/dams/NATURAL/2017/11/09/DOC/SRC/0304201711091120129412160013349.mp3\n",
      "http://dams.pa.go.kr:8888/dams/NATURAL/2017/11/09/DOC/SRC/0304201711091120135184468014719.mp3\n",
      "http://dams.pa.go.kr:8888/dams/NATURAL/2017/11/09/DOC/SRC/0304201711091120139600601015223.mp3\n",
      "http://dams.pa.go.kr:8888/dams/NATURAL/2017/11/09/DOC/SRC/0304201711091120146736456016661.mp3\n",
      "http://dams.pa.go.kr:8888/dams/NATURAL/2017/11/09/DOC/SRC/0304201711091120152706539011451.mp3\n",
      "http://dams.pa.go.kr:8888/dams/NATURAL/2017/11/09/DOC/SRC/0304201711091120160357057012669.mp3\n",
      "http://dams.pa.go.kr:8888/dams/NATURAL/2017/11/09/DOC/SRC/0304201711091120156940896019753.mp3\n",
      "http://dams.pa.go.kr:8888/dams/NATURAL/2017/11/09/DOC/SRC/0304201711091120165524953010968.mp3\n",
      "http://dams.pa.go.kr:8888/dams/NATURAL/2017/11/09/DOC/SRC/0304201711091120170387966011154.mp3\n",
      "http://dams.pa.go.kr:8888/dams/NATURAL/2017/11/09/DOC/SRC/0304201711091120176770408019198.mp3\n",
      "http://dams.pa.go.kr:8888/dams/NATURAL/2017/11/09/DOC/SRC/0304201711091120173075431017900.mp3\n",
      "http://dams.pa.go.kr:8888/dams/NATURAL/2017/11/09/DOC/SRC/0304201711091120174670567011787.mp3\n",
      "http://dams.pa.go.kr:8888/dams/NATURAL/2017/11/09/DOC/SRC/0304201711091120179793460018703.mp3\n",
      "http://dams.pa.go.kr:8888/dams/NATURAL/2017/11/09/DOC/SRC/0304201711091120189406788018959.mp3\n",
      "http://dams.pa.go.kr:8888/dams/NATURAL/2017/11/09/DOC/SRC/0304201711091120195607330012692.mp3\n",
      "http://dams.pa.go.kr:8888/dams/NATURAL/2017/11/09/DOC/SRC/0304201711091120200188269010073.mp3\n",
      "http://dams.pa.go.kr:8888/dams/NATURAL/2017/11/09/DOC/SRC/0304201711091120202825994018125.mp3\n",
      "http://dams.pa.go.kr:8888/dams/NATURAL/2017/11/09/DOC/SRC/0304201711091120204459699015864.mp3\n",
      "http://dams.pa.go.kr:8888/dams/NATURAL/2017/11/09/DOC/SRC/0304201711091120206022958015080.mp3\n",
      "http://dams.pa.go.kr:8888/dams/NATURAL/2017/11/09/DOC/SRC/0304201711091120207924023014550.mp3\n",
      "http://dams.pa.go.kr:8888/dams/NATURAL/2017/11/09/DOC/SRC/0304201711091120210493570011612.mp3\n",
      "http://dams.pa.go.kr:8888/dams/NATURAL/2017/11/09/DOC/SRC/0304201711091120214027158011838.mp3\n",
      "http://dams.pa.go.kr:8888/dams/NATURAL/2017/11/09/DOC/SRC/0304201711091120219943622018210.mp3\n",
      "http://dams.pa.go.kr:8888/dams/NATURAL/2017/11/09/DOC/SRC/0304201711091120228969001012787.mp3\n",
      "http://dams.pa.go.kr:8888/dams/NATURAL/2017/11/09/DOC/SRC/0304201711091120222811837011675.mp3\n",
      "http://dams.pa.go.kr:8888/dams/NATURAL/2017/11/09/DOC/SRC/0304201711091120225385939019163.mp3\n",
      "http://dams.pa.go.kr:8888/dams/NATURAL/2017/11/09/DOC/SRC/0304201711091120236893729011655.mp3\n"
     ]
    },
    {
     "name": "stdout",
     "output_type": "stream",
     "text": [
      "http://dams.pa.go.kr:8888/dams/NATURAL/2017/11/09/DOC/SRC/0304201711091120244252237014358.mp3\n",
      "http://dams.pa.go.kr:8888/dams/NATURAL/2017/11/09/DOC/SRC/0304201711091120253448516016061.mp3\n",
      "http://dams.pa.go.kr:8888/dams/NATURAL/2017/11/09/DOC/SRC/0304201711091120265793736016373.mp3\n",
      "http://dams.pa.go.kr:8888/dams/NATURAL/2017/11/09/DOC/SRC/0304201711091120281117268013234.mp3\n",
      "http://dams.pa.go.kr:8888/dams/NATURAL/2017/11/09/DOC/SRC/0304201711091120289522410014588.mp3\n",
      "http://dams.pa.go.kr:8888/dams/NATURAL/2017/11/09/DOC/SRC/0304201711091120297021048013809.mp3\n"
     ]
    }
   ],
   "source": [
    "top_dir = 'president_audio_record_data'\n",
    "presidents_count = 1\n",
    "try:\n",
    "    os.mkdir(top_dir)\n",
    "except:\n",
    "    print()\n",
    "for total_count in range(len(csv_data) - 1):\n",
    "    if total_count == 0 :\n",
    "        try:\n",
    "            os.mkdir(top_dir + '/' + president_name[total_count])\n",
    "        except:\n",
    "            print()\n",
    "    print(voice_record_link[total_count])\n",
    "    print(total_count + '\\t' + presidents_count)\n",
    "    download_URL = voice_record_link[total_count]\n",
    "    r = requests.get(download_URL, allow_redirects=True)\n",
    "    open(top_dir + '/'+ president_name[total_count] + '/' + president_name[total_count] \n",
    "         + str(presidents_count) + '.mp3', 'wb').write(r.content)\n",
    "    presidents_count += 1\n",
    "    if total_count < len(president_name) - 1 :\n",
    "        if(president_name[total_count] != president_name[total_count + 1]):\n",
    "            presidents_count = 1\n",
    "            try:\n",
    "                os.mkdir(top_dir + '/' + president_name[total_count + 1])\n",
    "            except:\n",
    "                print()"
   ]
  },
  {
   "cell_type": "code",
   "execution_count": 15,
   "metadata": {
    "colab": {},
    "colab_type": "code",
    "executionInfo": {
     "elapsed": 936,
     "status": "ok",
     "timestamp": 1594803833980,
     "user": {
      "displayName": "한우",
      "photoUrl": "https://lh3.googleusercontent.com/a-/AOh14Gimf-DWmV0SRGPvFIqwBPav_FepPcd_a3224htKug=s64",
      "userId": "16749474188934901800"
     },
     "user_tz": -540
    },
    "id": "FQIQzlbiKX1N"
   },
   "outputs": [
    {
     "ename": "FileNotFoundError",
     "evalue": "[WinError 2] 지정된 파일을 찾을 수 없습니다",
     "output_type": "error",
     "traceback": [
      "\u001b[1;31m---------------------------------------------------------------------------\u001b[0m",
      "\u001b[1;31mFileNotFoundError\u001b[0m                         Traceback (most recent call last)",
      "\u001b[1;32m<ipython-input-15-1493296004b9>\u001b[0m in \u001b[0;36m<module>\u001b[1;34m\u001b[0m\n\u001b[0;32m      3\u001b[0m \u001b[0mpresidents_count\u001b[0m \u001b[1;33m=\u001b[0m \u001b[1;36m1\u001b[0m\u001b[1;33m\u001b[0m\u001b[1;33m\u001b[0m\u001b[0m\n\u001b[0;32m      4\u001b[0m \u001b[1;32mfor\u001b[0m \u001b[0mtotal_count\u001b[0m \u001b[1;32min\u001b[0m \u001b[0mrange\u001b[0m\u001b[1;33m(\u001b[0m\u001b[0mlen\u001b[0m\u001b[1;33m(\u001b[0m\u001b[0mspeech_data\u001b[0m\u001b[1;33m)\u001b[0m\u001b[1;33m)\u001b[0m\u001b[1;33m:\u001b[0m\u001b[1;33m\u001b[0m\u001b[1;33m\u001b[0m\u001b[0m\n\u001b[1;32m----> 5\u001b[1;33m     \u001b[0msound\u001b[0m \u001b[1;33m=\u001b[0m \u001b[0mAudioSegment\u001b[0m\u001b[1;33m.\u001b[0m\u001b[0mfrom_mp3\u001b[0m\u001b[1;33m(\u001b[0m\u001b[0mtop_dir\u001b[0m \u001b[1;33m+\u001b[0m \u001b[1;34m'/'\u001b[0m \u001b[1;33m+\u001b[0m \u001b[0mpresident_name\u001b[0m\u001b[1;33m[\u001b[0m\u001b[0mtotal_count\u001b[0m\u001b[1;33m]\u001b[0m \u001b[1;33m+\u001b[0m \u001b[1;34m'/'\u001b[0m \u001b[1;33m+\u001b[0m \u001b[0mpresident_name\u001b[0m\u001b[1;33m[\u001b[0m\u001b[0mtotal_count\u001b[0m\u001b[1;33m]\u001b[0m \u001b[1;33m+\u001b[0m \u001b[0mstr\u001b[0m\u001b[1;33m(\u001b[0m\u001b[0mpresidents_count\u001b[0m\u001b[1;33m)\u001b[0m \u001b[1;33m+\u001b[0m \u001b[1;34m\".mp3\"\u001b[0m\u001b[1;33m)\u001b[0m\u001b[1;33m\u001b[0m\u001b[1;33m\u001b[0m\u001b[0m\n\u001b[0m\u001b[0;32m      6\u001b[0m     \u001b[0msound\u001b[0m\u001b[1;33m.\u001b[0m\u001b[0mexport\u001b[0m\u001b[1;33m(\u001b[0m\u001b[0mtop_dir\u001b[0m \u001b[1;33m+\u001b[0m \u001b[1;34m'/'\u001b[0m \u001b[1;33m+\u001b[0m \u001b[0mpresident_name\u001b[0m\u001b[1;33m[\u001b[0m\u001b[0mtotal_count\u001b[0m\u001b[1;33m]\u001b[0m \u001b[1;33m+\u001b[0m \u001b[1;34m'/'\u001b[0m \u001b[1;33m+\u001b[0m \u001b[0mpresident_name\u001b[0m\u001b[1;33m[\u001b[0m\u001b[0mtotal_count\u001b[0m\u001b[1;33m]\u001b[0m \u001b[1;33m+\u001b[0m \u001b[0mpresident_count\u001b[0m \u001b[1;33m+\u001b[0m \u001b[1;34m\".wav\"\u001b[0m\u001b[1;33m,\u001b[0m \u001b[0mformat\u001b[0m\u001b[1;33m=\u001b[0m\u001b[1;34m'wav'\u001b[0m\u001b[1;33m)\u001b[0m\u001b[1;33m\u001b[0m\u001b[1;33m\u001b[0m\u001b[0m\n\u001b[0;32m      7\u001b[0m     \u001b[1;32mif\u001b[0m \u001b[0mtotal_count\u001b[0m \u001b[1;33m<\u001b[0m \u001b[0mlen\u001b[0m\u001b[1;33m(\u001b[0m\u001b[0mpresident_name\u001b[0m\u001b[1;33m)\u001b[0m \u001b[1;33m-\u001b[0m \u001b[1;36m1\u001b[0m \u001b[1;33m:\u001b[0m\u001b[1;33m\u001b[0m\u001b[1;33m\u001b[0m\u001b[0m\n",
      "\u001b[1;32m~\\Anaconda3\\lib\\site-packages\\pydub\\audio_segment.py\u001b[0m in \u001b[0;36mfrom_mp3\u001b[1;34m(cls, file, parameters)\u001b[0m\n\u001b[0;32m    736\u001b[0m     \u001b[1;33m@\u001b[0m\u001b[0mclassmethod\u001b[0m\u001b[1;33m\u001b[0m\u001b[1;33m\u001b[0m\u001b[0m\n\u001b[0;32m    737\u001b[0m     \u001b[1;32mdef\u001b[0m \u001b[0mfrom_mp3\u001b[0m\u001b[1;33m(\u001b[0m\u001b[0mcls\u001b[0m\u001b[1;33m,\u001b[0m \u001b[0mfile\u001b[0m\u001b[1;33m,\u001b[0m \u001b[0mparameters\u001b[0m\u001b[1;33m=\u001b[0m\u001b[1;32mNone\u001b[0m\u001b[1;33m)\u001b[0m\u001b[1;33m:\u001b[0m\u001b[1;33m\u001b[0m\u001b[1;33m\u001b[0m\u001b[0m\n\u001b[1;32m--> 738\u001b[1;33m         \u001b[1;32mreturn\u001b[0m \u001b[0mcls\u001b[0m\u001b[1;33m.\u001b[0m\u001b[0mfrom_file\u001b[0m\u001b[1;33m(\u001b[0m\u001b[0mfile\u001b[0m\u001b[1;33m,\u001b[0m \u001b[1;34m'mp3'\u001b[0m\u001b[1;33m,\u001b[0m \u001b[0mparameters\u001b[0m\u001b[1;33m=\u001b[0m\u001b[0mparameters\u001b[0m\u001b[1;33m)\u001b[0m\u001b[1;33m\u001b[0m\u001b[1;33m\u001b[0m\u001b[0m\n\u001b[0m\u001b[0;32m    739\u001b[0m \u001b[1;33m\u001b[0m\u001b[0m\n\u001b[0;32m    740\u001b[0m     \u001b[1;33m@\u001b[0m\u001b[0mclassmethod\u001b[0m\u001b[1;33m\u001b[0m\u001b[1;33m\u001b[0m\u001b[0m\n",
      "\u001b[1;32m~\\Anaconda3\\lib\\site-packages\\pydub\\audio_segment.py\u001b[0m in \u001b[0;36mfrom_file\u001b[1;34m(cls, file, format, codec, parameters, **kwargs)\u001b[0m\n\u001b[0;32m    683\u001b[0m             \u001b[0minfo\u001b[0m \u001b[1;33m=\u001b[0m \u001b[1;32mNone\u001b[0m\u001b[1;33m\u001b[0m\u001b[1;33m\u001b[0m\u001b[0m\n\u001b[0;32m    684\u001b[0m         \u001b[1;32melse\u001b[0m\u001b[1;33m:\u001b[0m\u001b[1;33m\u001b[0m\u001b[1;33m\u001b[0m\u001b[0m\n\u001b[1;32m--> 685\u001b[1;33m             \u001b[0minfo\u001b[0m \u001b[1;33m=\u001b[0m \u001b[0mmediainfo_json\u001b[0m\u001b[1;33m(\u001b[0m\u001b[0morig_file\u001b[0m\u001b[1;33m,\u001b[0m \u001b[0mread_ahead_limit\u001b[0m\u001b[1;33m=\u001b[0m\u001b[0mread_ahead_limit\u001b[0m\u001b[1;33m)\u001b[0m\u001b[1;33m\u001b[0m\u001b[1;33m\u001b[0m\u001b[0m\n\u001b[0m\u001b[0;32m    686\u001b[0m         \u001b[1;32mif\u001b[0m \u001b[0minfo\u001b[0m\u001b[1;33m:\u001b[0m\u001b[1;33m\u001b[0m\u001b[1;33m\u001b[0m\u001b[0m\n\u001b[0;32m    687\u001b[0m             audio_streams = [x for x in info['streams']\n",
      "\u001b[1;32m~\\Anaconda3\\lib\\site-packages\\pydub\\utils.py\u001b[0m in \u001b[0;36mmediainfo_json\u001b[1;34m(filepath, read_ahead_limit)\u001b[0m\n\u001b[0;32m    272\u001b[0m \u001b[1;33m\u001b[0m\u001b[0m\n\u001b[0;32m    273\u001b[0m     \u001b[0mcommand\u001b[0m \u001b[1;33m=\u001b[0m \u001b[1;33m[\u001b[0m\u001b[0mprober\u001b[0m\u001b[1;33m,\u001b[0m \u001b[1;34m'-of'\u001b[0m\u001b[1;33m,\u001b[0m \u001b[1;34m'json'\u001b[0m\u001b[1;33m]\u001b[0m \u001b[1;33m+\u001b[0m \u001b[0mcommand_args\u001b[0m\u001b[1;33m\u001b[0m\u001b[1;33m\u001b[0m\u001b[0m\n\u001b[1;32m--> 274\u001b[1;33m     \u001b[0mres\u001b[0m \u001b[1;33m=\u001b[0m \u001b[0mPopen\u001b[0m\u001b[1;33m(\u001b[0m\u001b[0mcommand\u001b[0m\u001b[1;33m,\u001b[0m \u001b[0mstdin\u001b[0m\u001b[1;33m=\u001b[0m\u001b[0mstdin_parameter\u001b[0m\u001b[1;33m,\u001b[0m \u001b[0mstdout\u001b[0m\u001b[1;33m=\u001b[0m\u001b[0mPIPE\u001b[0m\u001b[1;33m,\u001b[0m \u001b[0mstderr\u001b[0m\u001b[1;33m=\u001b[0m\u001b[0mPIPE\u001b[0m\u001b[1;33m)\u001b[0m\u001b[1;33m\u001b[0m\u001b[1;33m\u001b[0m\u001b[0m\n\u001b[0m\u001b[0;32m    275\u001b[0m     \u001b[0moutput\u001b[0m\u001b[1;33m,\u001b[0m \u001b[0mstderr\u001b[0m \u001b[1;33m=\u001b[0m \u001b[0mres\u001b[0m\u001b[1;33m.\u001b[0m\u001b[0mcommunicate\u001b[0m\u001b[1;33m(\u001b[0m\u001b[0minput\u001b[0m\u001b[1;33m=\u001b[0m\u001b[0mstdin_data\u001b[0m\u001b[1;33m)\u001b[0m\u001b[1;33m\u001b[0m\u001b[1;33m\u001b[0m\u001b[0m\n\u001b[0;32m    276\u001b[0m     \u001b[0moutput\u001b[0m \u001b[1;33m=\u001b[0m \u001b[0moutput\u001b[0m\u001b[1;33m.\u001b[0m\u001b[0mdecode\u001b[0m\u001b[1;33m(\u001b[0m\u001b[1;34m\"utf-8\"\u001b[0m\u001b[1;33m,\u001b[0m \u001b[1;34m'ignore'\u001b[0m\u001b[1;33m)\u001b[0m\u001b[1;33m\u001b[0m\u001b[1;33m\u001b[0m\u001b[0m\n",
      "\u001b[1;32m~\\Anaconda3\\lib\\subprocess.py\u001b[0m in \u001b[0;36m__init__\u001b[1;34m(self, args, bufsize, executable, stdin, stdout, stderr, preexec_fn, close_fds, shell, cwd, env, universal_newlines, startupinfo, creationflags, restore_signals, start_new_session, pass_fds, encoding, errors, text)\u001b[0m\n\u001b[0;32m    773\u001b[0m                                 \u001b[0mc2pread\u001b[0m\u001b[1;33m,\u001b[0m \u001b[0mc2pwrite\u001b[0m\u001b[1;33m,\u001b[0m\u001b[1;33m\u001b[0m\u001b[1;33m\u001b[0m\u001b[0m\n\u001b[0;32m    774\u001b[0m                                 \u001b[0merrread\u001b[0m\u001b[1;33m,\u001b[0m \u001b[0merrwrite\u001b[0m\u001b[1;33m,\u001b[0m\u001b[1;33m\u001b[0m\u001b[1;33m\u001b[0m\u001b[0m\n\u001b[1;32m--> 775\u001b[1;33m                                 restore_signals, start_new_session)\n\u001b[0m\u001b[0;32m    776\u001b[0m         \u001b[1;32mexcept\u001b[0m\u001b[1;33m:\u001b[0m\u001b[1;33m\u001b[0m\u001b[1;33m\u001b[0m\u001b[0m\n\u001b[0;32m    777\u001b[0m             \u001b[1;31m# Cleanup if the child failed starting.\u001b[0m\u001b[1;33m\u001b[0m\u001b[1;33m\u001b[0m\u001b[1;33m\u001b[0m\u001b[0m\n",
      "\u001b[1;32m~\\Anaconda3\\lib\\subprocess.py\u001b[0m in \u001b[0;36m_execute_child\u001b[1;34m(self, args, executable, preexec_fn, close_fds, pass_fds, cwd, env, startupinfo, creationflags, shell, p2cread, p2cwrite, c2pread, c2pwrite, errread, errwrite, unused_restore_signals, unused_start_new_session)\u001b[0m\n\u001b[0;32m   1176\u001b[0m                                          \u001b[0menv\u001b[0m\u001b[1;33m,\u001b[0m\u001b[1;33m\u001b[0m\u001b[1;33m\u001b[0m\u001b[0m\n\u001b[0;32m   1177\u001b[0m                                          \u001b[0mos\u001b[0m\u001b[1;33m.\u001b[0m\u001b[0mfspath\u001b[0m\u001b[1;33m(\u001b[0m\u001b[0mcwd\u001b[0m\u001b[1;33m)\u001b[0m \u001b[1;32mif\u001b[0m \u001b[0mcwd\u001b[0m \u001b[1;32mis\u001b[0m \u001b[1;32mnot\u001b[0m \u001b[1;32mNone\u001b[0m \u001b[1;32melse\u001b[0m \u001b[1;32mNone\u001b[0m\u001b[1;33m,\u001b[0m\u001b[1;33m\u001b[0m\u001b[1;33m\u001b[0m\u001b[0m\n\u001b[1;32m-> 1178\u001b[1;33m                                          startupinfo)\n\u001b[0m\u001b[0;32m   1179\u001b[0m             \u001b[1;32mfinally\u001b[0m\u001b[1;33m:\u001b[0m\u001b[1;33m\u001b[0m\u001b[1;33m\u001b[0m\u001b[0m\n\u001b[0;32m   1180\u001b[0m                 \u001b[1;31m# Child is launched. Close the parent's copy of those pipe\u001b[0m\u001b[1;33m\u001b[0m\u001b[1;33m\u001b[0m\u001b[1;33m\u001b[0m\u001b[0m\n",
      "\u001b[1;31mFileNotFoundError\u001b[0m: [WinError 2] 지정된 파일을 찾을 수 없습니다"
     ]
    }
   ],
   "source": [
    "# mp3를 wav로 변환\n",
    "top_dir = 'president_audio_record_data'\n",
    "presidents_count = 1\n",
    "for total_count in range(len(speech_data)):\n",
    "    sound = AudioSegment.from_mp3(top_dir + '/' + president_name[total_count] + '/' + president_name[total_count] + str(presidents_count) + \".mp3\")\n",
    "    sound.export(top_dir + '/' + president_name[total_count] + '/' + president_name[total_count] + president_count + \".wav\", format='wav')\n",
    "    if total_count < len(president_name) - 1 :\n",
    "        if president_name[total_count] != president_name[total_count + 1] :\n",
    "            presidents_count = 1"
   ]
  },
  {
   "cell_type": "code",
   "execution_count": null,
   "metadata": {
    "colab": {},
    "colab_type": "code",
    "id": "EQ2wCZyzT7JQ"
   },
   "outputs": [],
   "source": [
    "# 음성 파일들의 MFCC로 나타내기\n",
    "%matplotlib inline\n",
    "\n",
    "for total_count in range(len(speech_data)) :\n",
    "  audio_path = top_dir + '/' + president_name[total_count] + '/' + president_name[total_count] + president_count + '.wav'\n",
    "  y, sr = librosa.load(audio_path)\n",
    "  IPython.display.Audio(data=y, rate = sr)\n",
    "\n",
    "  # MFCC를 그래프로 구현\n",
    "  S = librosa.feature.melspectrogram(y, sr=sr, n_mels=128) \n",
    "  log_S = librosa.amplitude_to_db(S, ref=np.max)\n",
    "  plt.figure(figsize=(12, 4))\n",
    "  librosa.display.specshow(log_S, sr=sr, x_axis='time', y_axis='mel')\n",
    "  plt.title('mel power spectrogram')\n",
    "  plt.colorbar(format='%+02.0f dB')\n",
    "  plt.tight_layout()\n",
    "  plt.show()\n",
    "\n",
    "# 데이터 정제 완료\n",
    "# 이후로 잡음 제거를 시도할 예정"
   ]
  }
 ],
 "metadata": {
  "colab": {
   "authorship_tag": "ABX9TyPIQA+yRh5F4JvpQF5QGDU0",
   "collapsed_sections": [],
   "name": "Classification_voices_past_presidents.ipynb",
   "provenance": []
  },
  "kernelspec": {
   "display_name": "Python 3",
   "language": "python",
   "name": "python3"
  },
  "language_info": {
   "codemirror_mode": {
    "name": "ipython",
    "version": 3
   },
   "file_extension": ".py",
   "mimetype": "text/x-python",
   "name": "python",
   "nbconvert_exporter": "python",
   "pygments_lexer": "ipython3",
   "version": "3.7.4"
  }
 },
 "nbformat": 4,
 "nbformat_minor": 1
}
